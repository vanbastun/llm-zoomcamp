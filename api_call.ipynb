{
 "cells": [
  {
   "cell_type": "code",
   "execution_count": 18,
   "id": "46535cbb-7da3-45f0-816f-eb86c3ee4d11",
   "metadata": {},
   "outputs": [],
   "source": [
    "import json\n",
    "import os\n",
    "import requests\n",
    "from dotenv import load_dotenv\n",
    "from pathlib import Path\n",
    "\n",
    "def chat_with_openrouter(prompt, model=\"deepseek/deepseek-r1-0528:free\"):\n",
    "    \"\"\"\n",
    "    Send a chat completion request to OpenRouter API\n",
    "    \n",
    "    Args:\n",
    "        prompt (str): The user's prompt/question\n",
    "        model (str): The model to use for completion\n",
    "        \n",
    "    Returns:\n",
    "        dict: The API response\n",
    "    \"\"\"\n",
    "    # Set OpenRouter API key\n",
    "    current_file_path = Path(__file__).parent if '__file__' in globals() else Path.cwd()\n",
    "    env_path = current_file_path / '.env'\n",
    "    load_dotenv(dotenv_path=env_path)\n",
    "    api_key = os.getenv(\"OPENROUTER_API_KEY\")\n",
    "    if not api_key:\n",
    "        raise ValueError(\"OPENROUTER_API_KEY not set in .env file.\")\n",
    "        \n",
    "    headers = {\n",
    "        \"Authorization\": f\"Bearer {api_key}\",\n",
    "        \"Content-Type\": \"application/json\"\n",
    "    }\n",
    "    \n",
    "    data = {\n",
    "        \"model\": model,\n",
    "        \"messages\": [\n",
    "            {\n",
    "                \"role\": \"user\",\n",
    "                \"content\": prompt\n",
    "            }\n",
    "        ]\n",
    "    }\n",
    "    \n",
    "    response = requests.post(\n",
    "        \"https://openrouter.ai/api/v1/chat/completions\",\n",
    "        headers=headers,\n",
    "        json=data\n",
    "    )\n",
    "    \n",
    "    return response.json() # [\"choices\"][0][\"message\"][\"content\"]\n"
   ]
  },
  {
   "cell_type": "code",
   "execution_count": 19,
   "id": "a9b63543-4610-4295-a4ec-65bd9334a37e",
   "metadata": {},
   "outputs": [],
   "source": [
    "from IPython.display import display, Markdown\n",
    "# Example usage - you can run this in a cell\n",
    "user_prompt = \"The course is already started. Can I still join the course?\"\n",
    "response = chat_with_openrouter(user_prompt)\n",
    "\n",
    "# Display the full response in a nicely formatted way\n",
    "# display(Markdown(\"## Full API Response\"))\n",
    "# display(Markdown(\"```json\\n\" + json.dumps(response, indent=2) + \"\\n```\"))\n",
    "\n",
    "# # Extract and display just the model's response\n",
    "# try:\n",
    "#     assistant_message = response[\"choices\"][0][\"message\"][\"content\"]\n",
    "#     display(Markdown(\"## Model's Response\"))\n",
    "#     display(Markdown(assistant_message))\n",
    "# except (KeyError, IndexError) as e:\n",
    "#     display(Markdown(f\"**Error extracting response**: {e}\"))\n",
    "#     display(Markdown(f\"Full response: {response}\"))"
   ]
  },
  {
   "cell_type": "code",
   "execution_count": 20,
   "id": "9378ab0f-396f-4fd0-a44e-3d368783339c",
   "metadata": {},
   "outputs": [
    {
     "data": {
      "text/plain": [
       "{'id': 'gen-1749901453-tbyXdMtkWdF4juQhWDus',\n",
       " 'provider': 'Chutes',\n",
       " 'model': 'deepseek/deepseek-r1-0528:free',\n",
       " 'object': 'chat.completion',\n",
       " 'created': 1749901454,\n",
       " 'choices': [{'logprobs': None,\n",
       "   'finish_reason': 'stop',\n",
       "   'native_finish_reason': 'stop',\n",
       "   'index': 0,\n",
       "   'message': {'role': 'assistant',\n",
       "    'content': 'Absolutely, you can often still join a course after it\\'s started – **but it depends on several factors**. Don\\'t assume it\\'s too late! Here\\'s what you need to do:\\n\\n**1. Check Immediately:**  \\n   *   **Review Registration Details:** Look on the course website/platform (Coursera, Udemy, university portal, etc.) or syllabus for a \"late enrollment\" or \"add/drop deadline\" policy.\\n   *   **Deadlines Exist:** Many courses allow enrollment for the first week or two. University courses often have a strict add/drop period.\\n   *   **Self-Paced is Easier:** If it\\'s asynchronous/on-demand (like many Udemy/Coursera courses), you can almost always join anytime and work at your own pace.\\n\\n**2. Contact the Right People (Crucial Step!):**  \\n   *   **Course Instructor:** Email the professor or instructor **directly**. Be polite, concise, and enthusiastic. Mention:\\n        *   Why you want to join the course.\\n        *   That you understand it\\'s started and you are committed to catching up.\\n        *   Ask if late enrollment is possible and what steps you need to take (if any).\\n   *   **Administrative Office:** If it\\'s a university/school course, contact the registrar\\'s office, department admin, or student support services. Ask about their late add policy and procedure.\\n   *   **Platform Support:** For online platforms, check their help center or contact support about late enrollment options for that specific course.\\n\\n**3. Be Prepared to Catch Up:**  \\n   *   **Act Fast:** If you get permission, enroll and download materials **immediately**.\\n   *   **Assess Missed Work:** Ask the instructor what assignments, readings, lectures, or quizzes you\\'ve missed.\\n   *   **Commit to Work:** Be realistic about the effort required to catch up. Are you willing to put in extra hours up front?\\n   *   **Ask About Make-Ups:** Politely inquire if there\\'s any flexibility to make up essential missed assignments or quizzes (don\\'t assume this is possible).\\n\\n**Factors Influencing Success:**\\n\\n*   **Course Type & Structure:** Strictly sequenced courses with groupwork are harder to join late than individual-study or lecture-based courses.\\n*   **Instructor Discretion:** Many instructors have flexibility, especially if you demonstrate enthusiasm and responsibility.\\n*   **Institutional Policy:** Universities have official deadlines; other providers are often more flexible.\\n*   **Space Availability:** Is the platform/classroom full? Some courses cap enrollment.\\n\\n**My Advice:**\\n\\n1.  **Don\\'t delay!** Contact the instructor/admin **right now** – today!\\n2.  **Be proactive & professional** in your communication.\\n3.  **Have your payment ready** in case enrollment is approved.\\n4.  **If rejected:** Ask if there\\'s a waiting list for this course or recommendations for similar future courses.\\n\\n**You won\\'t know until you ask! Many instructors appreciate motivated students and will try to accommodate you if possible.** Good luck! ✨',\n",
       "    'refusal': None,\n",
       "    'reasoning': 'Okay, the user is asking if they can still join a course that has already started. Hmm, this is a pretty common situation—people often miss enrollment deadlines or discover courses late. The phrasing \"can I\" suggests they might feel nervous about asking or worry it\\'s too late. \\n\\nFirst, I should reassure them this is possible while being realistic. They\\'ll need to act fast, but saying \"absolutely not\" would be crushing. Their real question might be \"How do I make this work despite being late?\"—so I\\'ll focus on actionable steps.\\n\\nNot knowing the course type (uni? online? workshop?) is tricky. The answer varies wildly: a university seminar might have strict deadlines, while a yoga class could be flexible. That\\'s why Step 1 is so important—demanding specifics. I\\'ll list every option (email, call, etc.) since timid learners might hesitate to \"bother\" instructors directly. \\n\\nRelated courses! That\\'s key. If they can\\'t join this one, suggesting alternatives prevents discouragement. Ending with enthusiasm matters too—late starters often feel behind already. \"Catching up is doable!\" is necessary emotional scaffolding. \\n\\n...Should I mention auditing? No, might overcomplicate. Keep it simple: deadlines, outreach, backup plans. User seems like a busy adult—concise but warm works best.\\n'}}],\n",
       " 'usage': {'prompt_tokens': 19, 'completion_tokens': 913, 'total_tokens': 932}}"
      ]
     },
     "execution_count": 20,
     "metadata": {},
     "output_type": "execute_result"
    }
   ],
   "source": [
    "response"
   ]
  }
 ],
 "metadata": {
  "kernelspec": {
   "display_name": "Python 3 (ipykernel)",
   "language": "python",
   "name": "python3"
  },
  "language_info": {
   "codemirror_mode": {
    "name": "ipython",
    "version": 3
   },
   "file_extension": ".py",
   "mimetype": "text/x-python",
   "name": "python",
   "nbconvert_exporter": "python",
   "pygments_lexer": "ipython3",
   "version": "3.10.12"
  }
 },
 "nbformat": 4,
 "nbformat_minor": 5
}
