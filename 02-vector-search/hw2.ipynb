{
 "cells": [
  {
   "cell_type": "markdown",
   "id": "a92b8bb0-ee32-4d21-8fb8-32040a6efd4a",
   "metadata": {},
   "source": [
    "## llm_zoomcamp module 2 \n",
    "#### 02-vector-search\n"
   ]
  },
  {
   "cell_type": "markdown",
   "id": "f45efe4e-f40c-40fa-ba1f-a8d2af873a89",
   "metadata": {},
   "source": [
    "# COHORT 2"
   ]
  },
  {
   "cell_type": "markdown",
   "id": "426cbfbf-45bb-4607-8fe4-a37275fe4617",
   "metadata": {},
   "source": [
    "#### Q1. Embedding the query"
   ]
  },
  {
   "cell_type": "code",
   "execution_count": 1,
   "id": "469ba464-d433-4a81-8d11-30cfd912a583",
   "metadata": {},
   "outputs": [
    {
     "name": "stdout",
     "output_type": "stream",
     "text": [
      "-0.11726373885183883\n"
     ]
    }
   ],
   "source": [
    "from fastembed import TextEmbedding, SparseTextEmbedding\n",
    "\n",
    "model = TextEmbedding(model_name=\"jinaai/jina-embeddings-v2-small-en\")\n",
    "embeddings = list(model.embed(['I just discovered the course. Can I join now?']))\n",
    "\n",
    "print(min(embeddings[0])) # What's the minimal value in this array?"
   ]
  },
  {
   "cell_type": "code",
   "execution_count": 2,
   "id": "ea4c9e86-e838-4ff3-9be0-ab66cd7a3eae",
   "metadata": {},
   "outputs": [
    {
     "data": {
      "text/plain": [
       "1.0"
      ]
     },
     "execution_count": 2,
     "metadata": {},
     "output_type": "execute_result"
    }
   ],
   "source": [
    "import numpy as np\n",
    "np.linalg.norm(embeddings)"
   ]
  },
  {
   "cell_type": "code",
   "execution_count": 3,
   "id": "1daf7676-c07e-4fa3-a24c-2c061c767bbb",
   "metadata": {},
   "outputs": [
    {
     "data": {
      "text/plain": [
       "1.0000000000000002"
      ]
     },
     "execution_count": 3,
     "metadata": {},
     "output_type": "execute_result"
    }
   ],
   "source": [
    "q1_vector = embeddings[0]\n",
    "q1_vector.dot(q1_vector)"
   ]
  },
  {
   "cell_type": "markdown",
   "id": "c6687d59-dcd5-4ade-a517-1f809b271e31",
   "metadata": {},
   "source": [
    "#### Q2. Cosine similarity with another vector"
   ]
  },
  {
   "cell_type": "code",
   "execution_count": 4,
   "id": "c1c8d8a0-656a-46a2-9f8d-11be4b41ce68",
   "metadata": {},
   "outputs": [],
   "source": [
    "doc = 'Can I still join the course after the start date?'"
   ]
  },
  {
   "cell_type": "code",
   "execution_count": 5,
   "id": "3508fd91-9bdc-4b41-9b7d-8df670a9f0e3",
   "metadata": {},
   "outputs": [],
   "source": [
    "emb = list(model.embed(doc))\n"
   ]
  },
  {
   "cell_type": "code",
   "execution_count": 6,
   "id": "dfe34a86-fec9-4545-896f-b9408999f3eb",
   "metadata": {},
   "outputs": [
    {
     "data": {
      "text/plain": [
       "0.9008528895674548"
      ]
     },
     "execution_count": 6,
     "metadata": {},
     "output_type": "execute_result"
    }
   ],
   "source": [
    "q1_vector.dot(emb[0]) # What's the cosine similarity between the vector for the query and the vector for the document?"
   ]
  },
  {
   "cell_type": "markdown",
   "id": "1c413dcf-7983-438f-be74-2d95e342a4ab",
   "metadata": {},
   "source": [
    "#### Q3. Ranking by cosine"
   ]
  },
  {
   "cell_type": "code",
   "execution_count": 7,
   "id": "e433d895-b748-4abd-bd2d-aaeea8c0c91d",
   "metadata": {},
   "outputs": [],
   "source": [
    "documents = [{'text': \"Yes, even if you don't register, you're still eligible to submit the homeworks.\\nBe aware, however, that there will be deadlines for turning in the final projects. So don't leave everything for the last minute.\",\n",
    "  'section': 'General course-related questions',\n",
    "  'question': 'Course - Can I still join the course after the start date?',\n",
    "  'course': 'data-engineering-zoomcamp'},\n",
    " {'text': 'Yes, we will keep all the materials after the course finishes, so you can follow the course at your own pace after it finishes.\\nYou can also continue looking at the homeworks and continue preparing for the next cohort. I guess you can also start working on your final capstone project.',\n",
    "  'section': 'General course-related questions',\n",
    "  'question': 'Course - Can I follow the course after it finishes?',\n",
    "  'course': 'data-engineering-zoomcamp'},\n",
    " {'text': \"The purpose of this document is to capture frequently asked technical questions\\nThe exact day and hour of the course will be 15th Jan 2024 at 17h00. The course will start with the first  “Office Hours'' live.1\\nSubscribe to course public Google Calendar (it works from Desktop only).\\nRegister before the course starts using this link.\\nJoin the course Telegram channel with announcements.\\nDon’t forget to register in DataTalks.Club's Slack and join the channel.\",\n",
    "  'section': 'General course-related questions',\n",
    "  'question': 'Course - When will the course start?',\n",
    "  'course': 'data-engineering-zoomcamp'},\n",
    " {'text': 'You can start by installing and setting up all the dependencies and requirements:\\nGoogle cloud account\\nGoogle Cloud SDK\\nPython 3 (installed with Anaconda)\\nTerraform\\nGit\\nLook over the prerequisites and syllabus to see if you are comfortable with these subjects.',\n",
    "  'section': 'General course-related questions',\n",
    "  'question': 'Course - What can I do before the course starts?',\n",
    "  'course': 'data-engineering-zoomcamp'},\n",
    " {'text': 'Star the repo! Share it with friends if you find it useful ❣️\\nCreate a PR if you see you can improve the text or the structure of the repository.',\n",
    "  'section': 'General course-related questions',\n",
    "  'question': 'How can we contribute to the course?',\n",
    "  'course': 'data-engineering-zoomcamp'}]"
   ]
  },
  {
   "cell_type": "code",
   "execution_count": 8,
   "id": "0c59571b-0cd2-4cb9-b740-6e0048ff6844",
   "metadata": {},
   "outputs": [],
   "source": [
    "doc_texts = []\n",
    "for doc in documents:\n",
    "    doc_texts.append(doc.get('text'))\n"
   ]
  },
  {
   "cell_type": "code",
   "execution_count": 9,
   "id": "5eea1d16-c7e7-4d4e-84b0-fac30b2fcd17",
   "metadata": {},
   "outputs": [],
   "source": [
    "import numpy as np\n",
    "\n",
    "doc_texts = [doc.get('text') for doc in documents]\n",
    "doc_array = np.array(doc_texts).reshape(-1, 1)"
   ]
  },
  {
   "cell_type": "code",
   "execution_count": 10,
   "id": "47c7bf37-723a-47e0-ba5c-6f6cb475c5c2",
   "metadata": {},
   "outputs": [],
   "source": [
    "emb_doc_texts = list(model.embed(doc_texts))"
   ]
  },
  {
   "cell_type": "code",
   "execution_count": 11,
   "id": "a5b76b22-ee96-4850-aa3a-35655bff6083",
   "metadata": {},
   "outputs": [],
   "source": [
    "doc_array = np.array(emb_doc_texts).reshape(-1, 1)"
   ]
  },
  {
   "cell_type": "code",
   "execution_count": 19,
   "id": "b91f7cd0-f3ba-4b3f-b3ec-b59c952ca63e",
   "metadata": {},
   "outputs": [
    {
     "name": "stdout",
     "output_type": "stream",
     "text": [
      "1 ->  0.8182378150042889\n"
     ]
    }
   ],
   "source": [
    "max_similarity = 0\n",
    "index_q3 = 0\n",
    "for i, text in enumerate(emb_doc_texts):\n",
    "    sim = text.dot(q1_vector)\n",
    "    if sim > max_similarity:\n",
    "        max_similarity = sim\n",
    "        index_q3 = i\n",
    "print(index_q3, '-> ', max_similarity) # What's the document index with the highest similarity? "
   ]
  },
  {
   "cell_type": "markdown",
   "id": "1456b80b-2e30-4400-91c8-1df9bae10874",
   "metadata": {},
   "source": [
    "#### Q4. Ranking by cosine, version two"
   ]
  },
  {
   "cell_type": "code",
   "execution_count": 14,
   "id": "e4623acc-9852-41c6-9198-3fb38ecf0e67",
   "metadata": {},
   "outputs": [
    {
     "data": {
      "text/plain": [
       "\"Course - Can I still join the course after the start date? Yes, even if you don't register, you're still eligible to submit the homeworks.\\nBe aware, however, that there will be deadlines for turning in the final projects. So don't leave everything for the last minute.\""
      ]
     },
     "execution_count": 14,
     "metadata": {},
     "output_type": "execute_result"
    }
   ],
   "source": [
    "full_texts = [(doc.get('question') + ' ' + doc.get('text')) for doc in documents]\n",
    "full_texts[0]"
   ]
  },
  {
   "cell_type": "code",
   "execution_count": 15,
   "id": "c7666be0-cd70-427d-9829-136333ea5e57",
   "metadata": {},
   "outputs": [
    {
     "data": {
      "text/plain": [
       "'Course - Can I follow the course after it finishes? Yes, we will keep all the materials after the course finishes, so you can follow the course at your own pace after it finishes.\\nYou can also continue looking at the homeworks and continue preparing for the next cohort. I guess you can also start working on your final capstone project.'"
      ]
     },
     "execution_count": 15,
     "metadata": {},
     "output_type": "execute_result"
    }
   ],
   "source": [
    "full_texts[1]"
   ]
  },
  {
   "cell_type": "code",
   "execution_count": 16,
   "id": "b67e3c95-2615-4f9b-b52b-1611af490e5d",
   "metadata": {},
   "outputs": [],
   "source": [
    "emb_full_texts = list(model.embed(full_texts))\n",
    "full_texts_arr = np.array(emb_full_texts).reshape(-1, 1)\n"
   ]
  },
  {
   "cell_type": "code",
   "execution_count": 17,
   "id": "9cd1d906-f9d3-4e50-b026-4efce07d4044",
   "metadata": {},
   "outputs": [
    {
     "data": {
      "text/plain": [
       "(512,)"
      ]
     },
     "execution_count": 17,
     "metadata": {},
     "output_type": "execute_result"
    }
   ],
   "source": [
    "# 'I just discovered the course. Can I join now?'\n",
    "q1_vector.shape"
   ]
  },
  {
   "cell_type": "code",
   "execution_count": 21,
   "id": "24953451-f45a-464c-afc5-1930a6951da7",
   "metadata": {},
   "outputs": [
    {
     "name": "stdout",
     "output_type": "stream",
     "text": [
      "0 ->  0.8514543236908068\n"
     ]
    }
   ],
   "source": [
    "max_similarity4 = 0\n",
    "index_q4 = 0\n",
    "for i, text in enumerate(emb_full_texts):\n",
    "    sim = text.dot(q1_vector)\n",
    "    if sim > max_similarity4:\n",
    "        max_similarity4 = sim\n",
    "        index_q4 = i\n",
    "print(index_q4, '-> ', max_similarity4)    # What's the highest scoring document?"
   ]
  },
  {
   "cell_type": "markdown",
   "id": "880234c5-7011-4e3c-a15b-91f2631ea2ed",
   "metadata": {},
   "source": [
    "###### Is it different from Q3? If yes, why?\n",
    "There is difference between highest scoring document in Q3 (index 1) and Q4 (index 0) because in Q4 we are using vector from words from both question and answer, and in index 0 document question is almost the same like in query, so that vectors similarity becomes close to 1."
   ]
  },
  {
   "cell_type": "markdown",
   "id": "50910187-1fe9-431d-8bc0-2e1bdb9f6fcb",
   "metadata": {},
   "source": [
    "#### Q5. Selecting the embedding model"
   ]
  },
  {
   "cell_type": "code",
   "execution_count": 22,
   "id": "bc1dbb75-0f4b-4ff0-99f5-d1395057547d",
   "metadata": {},
   "outputs": [
    {
     "name": "stdout",
     "output_type": "stream",
     "text": [
      "384\n"
     ]
    }
   ],
   "source": [
    "import json\n",
    "\n",
    "mindim = 1000000\n",
    "for model in TextEmbedding.list_supported_models():\n",
    "    if model[\"dim\"] < mindim:\n",
    "        mindim = model[\"dim\"]\n",
    "print(mindim) # What's the smallest dimensionality for models in fastembed?"
   ]
  },
  {
   "cell_type": "code",
   "execution_count": 23,
   "id": "3b570996-30e5-41d4-a1ac-14192c71f06d",
   "metadata": {},
   "outputs": [
    {
     "name": "stdout",
     "output_type": "stream",
     "text": [
      "BAAI/bge-small-en\n",
      "BAAI/bge-small-en-v1.5\n",
      "snowflake/snowflake-arctic-embed-xs\n",
      "snowflake/snowflake-arctic-embed-s\n",
      "sentence-transformers/all-MiniLM-L6-v2\n",
      "sentence-transformers/paraphrase-multilingual-MiniLM-L12-v2\n"
     ]
    }
   ],
   "source": [
    "for model in TextEmbedding.list_supported_models():\n",
    "    if model[\"dim\"] == mindim:\n",
    "        print(model[\"model\"])"
   ]
  },
  {
   "cell_type": "code",
   "execution_count": 24,
   "id": "20559675-455c-48bd-9c65-021f22006f90",
   "metadata": {},
   "outputs": [],
   "source": [
    "model_q5 = 'BAAI/bge-small-en'"
   ]
  },
  {
   "cell_type": "markdown",
   "id": "0ab1e4b9-677e-463a-a710-1b51aa0190bc",
   "metadata": {},
   "source": [
    "####  Q6. Indexing with qdrant (2 points)"
   ]
  },
  {
   "cell_type": "code",
   "execution_count": 25,
   "id": "451ac134-7d70-4ff6-a95c-9146568c343c",
   "metadata": {},
   "outputs": [],
   "source": [
    "import requests \n",
    "\n",
    "docs_url = 'https://github.com/alexeygrigorev/llm-rag-workshop/raw/main/notebooks/documents.json'\n",
    "docs_response = requests.get(docs_url)\n",
    "documents_raw = docs_response.json()\n",
    "\n",
    "\n",
    "documents = []\n",
    "\n",
    "for course in documents_raw:\n",
    "    course_name = course['course']\n",
    "    if course_name != 'machine-learning-zoomcamp':\n",
    "        continue\n",
    "\n",
    "    for doc in course['documents']:\n",
    "        doc['course'] = course_name\n",
    "        documents.append(doc)"
   ]
  },
  {
   "cell_type": "code",
   "execution_count": 26,
   "id": "d9a8ceef-9e1c-40fa-bad8-2502af310fdd",
   "metadata": {},
   "outputs": [],
   "source": [
    "from qdrant_client import QdrantClient, models\n",
    "qd_client = QdrantClient(\"http://localhost:6333\")"
   ]
  },
  {
   "cell_type": "code",
   "execution_count": 29,
   "id": "190e7014-91ca-4b65-982c-46e35dcc24ff",
   "metadata": {},
   "outputs": [],
   "source": [
    "# Define the collection name\n",
    "collection_name = \"zoomcamp-ml_only\"\n"
   ]
  },
  {
   "cell_type": "code",
   "execution_count": 31,
   "id": "5fcaf052-db56-49fa-86ee-e2f4038e4f9c",
   "metadata": {},
   "outputs": [
    {
     "data": {
      "text/plain": [
       "True"
      ]
     },
     "execution_count": 31,
     "metadata": {},
     "output_type": "execute_result"
    }
   ],
   "source": [
    "qd_client.delete_collection(collection_name=collection_name)"
   ]
  },
  {
   "cell_type": "code",
   "execution_count": 32,
   "id": "630ca37f-ba8e-47b6-bccb-2557b0eb0700",
   "metadata": {},
   "outputs": [
    {
     "data": {
      "text/plain": [
       "True"
      ]
     },
     "execution_count": 32,
     "metadata": {},
     "output_type": "execute_result"
    }
   ],
   "source": [
    "# Create the collection with specified vector parameters\n",
    "qd_client.create_collection(\n",
    "    collection_name=collection_name,\n",
    "    vectors_config=models.VectorParams(\n",
    "        size=mindim,  # Dimensionality of the vectors\n",
    "        distance=models.Distance.COSINE  # Distance metric for similarity search\n",
    "    )\n",
    ")"
   ]
  },
  {
   "cell_type": "code",
   "execution_count": 33,
   "id": "0f1011fa-6556-41e6-aea5-bcf0fa67f449",
   "metadata": {},
   "outputs": [
    {
     "data": {
      "text/plain": [
       "{'text': 'Machine Learning Zoomcamp FAQ\\nThe purpose of this document is to capture frequently asked technical questions.\\nWe did this for our data engineering course and it worked quite well. Check this document for inspiration on how to structure your questions and answers:\\nData Engineering Zoomcamp FAQ\\nIn the course GitHub repository there’s a link. Here it is: https://airtable.com/shryxwLd0COOEaqXo\\nwork',\n",
       " 'section': 'General course-related questions',\n",
       " 'question': 'How do I sign up?',\n",
       " 'course': 'machine-learning-zoomcamp'}"
      ]
     },
     "execution_count": 33,
     "metadata": {},
     "output_type": "execute_result"
    }
   ],
   "source": [
    "documents[0]"
   ]
  },
  {
   "cell_type": "code",
   "execution_count": 34,
   "id": "f0f42361-cf51-45f3-baf4-49a081cb2356",
   "metadata": {},
   "outputs": [],
   "source": [
    "points = []\n",
    "\n",
    "for i, doc in enumerate(documents):\n",
    "    point = models.PointStruct(\n",
    "        id=i,\n",
    "        vector=models.Document(text=(doc.get('question') + ' ' + doc.get('text')), model=model_q5), #embed text locally \n",
    "    )\n",
    "    points.append(point)\n",
    "\n"
   ]
  },
  {
   "cell_type": "code",
   "execution_count": 35,
   "id": "ac460e62-9c23-4f40-bd53-19f919f9bd51",
   "metadata": {},
   "outputs": [
    {
     "data": {
      "text/plain": [
       "UpdateResult(operation_id=0, status=<UpdateStatus.COMPLETED: 'completed'>)"
      ]
     },
     "execution_count": 35,
     "metadata": {},
     "output_type": "execute_result"
    }
   ],
   "source": [
    "qd_client.upsert(\n",
    "    collection_name=collection_name,\n",
    "    points=points\n",
    ")"
   ]
  },
  {
   "cell_type": "code",
   "execution_count": 36,
   "id": "f428f4a3-6e8e-4fbb-ba43-63e58defde05",
   "metadata": {},
   "outputs": [],
   "source": [
    "def search(query, limit=1):\n",
    "\n",
    "    results = qd_client.query_points(\n",
    "        collection_name=collection_name,\n",
    "        query=models.Document( #embed the query text locally with \"jinaai/jina-embeddings-v2-small-en\"\n",
    "            text=query,\n",
    "            model=model_q5\n",
    "        ),\n",
    "        limit=limit, # top closest matches\n",
    "        with_payload=True #to get metadata in the results\n",
    "    )\n",
    "\n",
    "    return results"
   ]
  },
  {
   "cell_type": "code",
   "execution_count": 37,
   "id": "86f14299-00da-4513-bc9b-bcb7d8985e30",
   "metadata": {},
   "outputs": [],
   "source": [
    "# use the question from Q1 for querying the collection.\n",
    "# What's the highest score in the results?\n",
    "result = search('I just discovered the course. Can I join now?')"
   ]
  },
  {
   "cell_type": "code",
   "execution_count": 38,
   "id": "9e3263fe-fea6-4326-aa16-c4d0ebc9d7ba",
   "metadata": {},
   "outputs": [
    {
     "data": {
      "text/plain": [
       "QueryResponse(points=[ScoredPoint(id=14, version=0, score=0.8703172, payload={}, vector=None, shard_key=None, order_value=None)])"
      ]
     },
     "execution_count": 38,
     "metadata": {},
     "output_type": "execute_result"
    }
   ],
   "source": [
    "result"
   ]
  }
 ],
 "metadata": {
  "kernelspec": {
   "display_name": "Python 3 (ipykernel)",
   "language": "python",
   "name": "python3"
  },
  "language_info": {
   "codemirror_mode": {
    "name": "ipython",
    "version": 3
   },
   "file_extension": ".py",
   "mimetype": "text/x-python",
   "name": "python",
   "nbconvert_exporter": "python",
   "pygments_lexer": "ipython3",
   "version": "3.10.12"
  }
 },
 "nbformat": 4,
 "nbformat_minor": 5
}
