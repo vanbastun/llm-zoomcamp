{
 "cells": [
  {
   "cell_type": "markdown",
   "id": "a92b8bb0-ee32-4d21-8fb8-32040a6efd4a",
   "metadata": {},
   "source": [
    "## llm_zoomcamp module 2 \n",
    "#### 02-vector-search\n",
    "import faq documents; run qdarnt vector search in docker; api call to openrouter.ai using key from .env file\n",
    "model used for homework -- deepseek/deepseek-r1-0528:free"
   ]
  },
  {
   "cell_type": "code",
   "execution_count": 1,
   "id": "dd2f6ba8-be0a-40dc-9913-f52f07ce486b",
   "metadata": {},
   "outputs": [],
   "source": [
    "import requests \n",
    "\n",
    "docs_url = 'https://github.com/DataTalksClub/llm-zoomcamp/blob/main/01-intro/documents.json?raw=1'\n",
    "docs_response = requests.get(docs_url)\n",
    "documents_raw = docs_response.json()\n",
    "\n",
    "documents = []\n",
    "\n",
    "for course in documents_raw:\n",
    "    course_name = course['course']\n",
    "\n",
    "    for doc in course['documents']:\n",
    "        doc['course'] = course_name\n",
    "        documents.append(doc)"
   ]
  },
  {
   "cell_type": "markdown",
   "id": "29c87a7e-d2dc-421d-9070-740ae307ec14",
   "metadata": {},
   "source": [
    "docker run -p 6333:6333 -p 6334:6334    -v \"$(pwd)/qdrant_storage:/qdrant/storage:z\"    qdrant/qdrant"
   ]
  },
  {
   "cell_type": "code",
   "execution_count": 2,
   "id": "1b7516f4-17f4-4d50-b8b1-1fdaaf899cca",
   "metadata": {},
   "outputs": [
    {
     "name": "stdout",
     "output_type": "stream",
     "text": [
      "/home/ubuser/llm-zoomcamp\n",
      "['/home/ubuser/llm-zoomcamp', '/home/ubuser/spark/spark-3.3.2-bin-hadoop3/python/lib/py4j-0.10.9.5-src.zip', '/home/ubuser/spark/spark-3.3.2-bin-hadoop3/python', '/home/ubuser/llm-zoomcamp/02-vector-search', '/usr/lib/python310.zip', '/usr/lib/python3.10', '/usr/lib/python3.10/lib-dynload', '', '/home/ubuser/.local/lib/python3.10/site-packages', '/usr/local/lib/python3.10/dist-packages', '/usr/local/lib/python3.10/dist-packages/eflomal-0.1-py3.10-linux-x86_64.egg', '/usr/lib/python3/dist-packages', '/usr/lib/python3.10/dist-packages']\n"
     ]
    }
   ],
   "source": [
    "import sys\n",
    "import os\n",
    "\n",
    "# Get the parent directory of the current notebook\n",
    "parent_dir = os.path.abspath(os.path.join(os.getcwd(), '..'))\n",
    "print(parent_dir)\n",
    "if parent_dir not in sys.path:\n",
    "    sys.path.insert(0, parent_dir)\n",
    "\n",
    "print(sys.path)\n",
    "from api_call import chat_with_openrouter"
   ]
  },
  {
   "cell_type": "code",
   "execution_count": null,
   "id": "18867920-cd63-4b39-ba5f-f8e193b35eee",
   "metadata": {},
   "outputs": [],
   "source": []
  },
  {
   "cell_type": "code",
   "execution_count": 6,
   "id": "fb238e80-c710-458e-a433-9dfc783107ca",
   "metadata": {},
   "outputs": [],
   "source": [
    "from qdrant_client import QdrantClient, models\n",
    "qd_client = QdrantClient(\"http://localhost:6333\")\n",
    "EMBEDDING_DIMENSIONALITY = 512\n",
    "model_handle = \"jinaai/jina-embeddings-v2-small-en\"\n",
    "collection_name = \"zoomcamp-faq\"\n"
   ]
  },
  {
   "cell_type": "code",
   "execution_count": 7,
   "id": "97e0a684-3aac-4241-8786-ea93158bf2d7",
   "metadata": {},
   "outputs": [
    {
     "data": {
      "text/plain": [
       "False"
      ]
     },
     "execution_count": 7,
     "metadata": {},
     "output_type": "execute_result"
    }
   ],
   "source": [
    "qd_client.delete_collection(collection_name=collection_name)"
   ]
  },
  {
   "cell_type": "code",
   "execution_count": 8,
   "id": "51aa4f46-610f-4733-8386-24114512ed1c",
   "metadata": {},
   "outputs": [
    {
     "data": {
      "text/plain": [
       "True"
      ]
     },
     "execution_count": 8,
     "metadata": {},
     "output_type": "execute_result"
    }
   ],
   "source": [
    "\n",
    "qd_client.create_collection(\n",
    "    collection_name=collection_name,\n",
    "    vectors_config=models.VectorParams(\n",
    "        size=EMBEDDING_DIMENSIONALITY,\n",
    "        distance=models.Distance.COSINE\n",
    "    )\n",
    ")"
   ]
  },
  {
   "cell_type": "code",
   "execution_count": 9,
   "id": "8915bb0f-ed99-4ba9-a95c-40cd8ca88681",
   "metadata": {},
   "outputs": [
    {
     "data": {
      "text/plain": [
       "UpdateResult(operation_id=1, status=<UpdateStatus.COMPLETED: 'completed'>)"
      ]
     },
     "execution_count": 9,
     "metadata": {},
     "output_type": "execute_result"
    }
   ],
   "source": [
    "qd_client.create_payload_index(\n",
    "    collection_name=collection_name,\n",
    "    field_name=\"course\",\n",
    "    field_schema=\"keyword\"\n",
    ")"
   ]
  },
  {
   "cell_type": "code",
   "execution_count": 10,
   "id": "874ccb82-76be-47ac-b710-ef98ceff3a16",
   "metadata": {},
   "outputs": [],
   "source": [
    "points = []\n",
    "\n",
    "for i, doc in enumerate(documents):\n",
    "    text = doc['question'] + ' ' + doc['text']\n",
    "    vector = models.Document(text=text, model=model_handle)\n",
    "    point = models.PointStruct(\n",
    "        id=i,\n",
    "        vector=vector,\n",
    "        payload=doc\n",
    "    )\n",
    "    points.append(point)"
   ]
  },
  {
   "cell_type": "code",
   "execution_count": 12,
   "id": "a7e36ab5-9c2a-4899-ae72-c1f180afbbd7",
   "metadata": {},
   "outputs": [
    {
     "data": {
      "text/plain": [
       "UpdateResult(operation_id=3, status=<UpdateStatus.COMPLETED: 'completed'>)"
      ]
     },
     "execution_count": 12,
     "metadata": {},
     "output_type": "execute_result"
    }
   ],
   "source": [
    "qd_client.upsert(\n",
    "    collection_name=collection_name,\n",
    "    points=points\n",
    ")"
   ]
  },
  {
   "cell_type": "code",
   "execution_count": 13,
   "id": "7a5107e3-61d8-4e90-99af-2bb219aa976c",
   "metadata": {},
   "outputs": [],
   "source": [
    "def vector_search(question):\n",
    "    print('vector_search is used')\n",
    "    \n",
    "    course = 'data-engineering-zoomcamp'\n",
    "    query_points = qd_client.query_points(\n",
    "        collection_name=collection_name,\n",
    "        query=models.Document(\n",
    "            text=question,\n",
    "            model=model_handle \n",
    "        ),\n",
    "        query_filter=models.Filter( \n",
    "            must=[\n",
    "                models.FieldCondition(\n",
    "                    key=\"course\",\n",
    "                    match=models.MatchValue(value=course)\n",
    "                )\n",
    "            ]\n",
    "        ),\n",
    "        limit=5,\n",
    "        with_payload=True\n",
    "    )\n",
    "    \n",
    "    results = []\n",
    "    \n",
    "    for point in query_points.points:\n",
    "        results.append(point.payload)\n",
    "    \n",
    "    return results"
   ]
  },
  {
   "cell_type": "code",
   "execution_count": 14,
   "id": "83d0df5c-ac8c-4f78-92bd-241ef8dd2127",
   "metadata": {},
   "outputs": [],
   "source": [
    "def build_prompt(query, search_results):\n",
    "    prompt_template = \"\"\"\n",
    "You're a course teaching assistant. Answer the QUESTION based on the CONTEXT from the FAQ database.\n",
    "Use only the facts from the CONTEXT when answering the QUESTION.\n",
    "\n",
    "QUESTION: {question}\n",
    "\n",
    "CONTEXT: \n",
    "{context}\n",
    "\"\"\".strip()\n",
    "\n",
    "    context = \"\"\n",
    "    \n",
    "    for doc in search_results:\n",
    "        context = context + f\"section: {doc['section']}\\nquestion: {doc['question']}\\nanswer: {doc['text']}\\n\\n\"\n",
    "    \n",
    "    prompt = prompt_template.format(question=query, context=context).strip()\n",
    "    return prompt"
   ]
  },
  {
   "cell_type": "code",
   "execution_count": 19,
   "id": "5f41b7b8-f0b4-4a86-b3c5-e01af77dfb4e",
   "metadata": {},
   "outputs": [],
   "source": [
    "def rag(query, details=False):\n",
    "    search_results = vector_search(query)\n",
    "    prompt = build_prompt(query, search_results)\n",
    "    answer = chat_with_openrouter(prompt)\n",
    "    if details:\n",
    "        return answer\n",
    "    else:\n",
    "        return answer['choices'][0]['message']['content']"
   ]
  },
  {
   "cell_type": "code",
   "execution_count": 16,
   "id": "d144d061-4701-406f-843b-8b8f8c0963cc",
   "metadata": {},
   "outputs": [],
   "source": [
    "query = \"How do execute a command on a Kubernetes pod?\""
   ]
  },
  {
   "cell_type": "code",
   "execution_count": 20,
   "id": "36bb3bc6-fede-4c11-ae32-4f38b9b46493",
   "metadata": {},
   "outputs": [
    {
     "name": "stdout",
     "output_type": "stream",
     "text": [
      "vector_search is used\n"
     ]
    },
    {
     "data": {
      "text/plain": [
       "'Based solely on the provided FAQ context:\\n\\n**Yes, you can enroll and participate even after the course has started.**\\n\\nHere\\'s why, according to the CONTEXT:\\n\\n1.  **Registration is not required for participation:** \"You can also just start learning and submitting homework without registering. It is not checked against any registered list. Registration is just to gauge interest before the start date.\" (From *Course - I have registered for the Data Engineering Bootcamp...*)\\n2.  **Specifically allows joining after start:** \"Yes, even if you don\\'t register, you\\'re still eligible to submit the homeworks.\" (From *Course - Can I still join the course after the start date?*)\\n3.  **Access to materials is maintained:** While focusing on post-course access, the answer for *Course - Can I follow the course after it finishes?* implies the materials and homework access remain open, supporting ongoing participation.\\n\\n**Important Note:** While enrollment and homework submission are open, be aware of deadlines: \"there will be deadlines for turning in the final projects. So don\\'t leave everything for the last minute.\" (From *Course - Can I still join the course after the start date?*)'"
      ]
     },
     "execution_count": 20,
     "metadata": {},
     "output_type": "execute_result"
    }
   ],
   "source": [
    "rag('the course has already started, can I still enroll?')"
   ]
  },
  {
   "cell_type": "markdown",
   "id": "f45efe4e-f40c-40fa-ba1f-a8d2af873a89",
   "metadata": {},
   "source": [
    "# COHORT 2"
   ]
  },
  {
   "cell_type": "markdown",
   "id": "426cbfbf-45bb-4607-8fe4-a37275fe4617",
   "metadata": {},
   "source": [
    "#### Q1. Embedding the query"
   ]
  },
  {
   "cell_type": "code",
   "execution_count": 3,
   "id": "469ba464-d433-4a81-8d11-30cfd912a583",
   "metadata": {},
   "outputs": [
    {
     "name": "stdout",
     "output_type": "stream",
     "text": [
      "-0.11726373885183883\n"
     ]
    }
   ],
   "source": [
    "from fastembed import TextEmbedding, SparseTextEmbedding\n",
    "\n",
    "model = TextEmbedding(model_name=\"jinaai/jina-embeddings-v2-small-en\")\n",
    "embeddings = list(model.embed(['I just discovered the course. Can I join now?']))\n",
    "\n",
    "print(min(embeddings[0]))"
   ]
  },
  {
   "cell_type": "code",
   "execution_count": 4,
   "id": "ea4c9e86-e838-4ff3-9be0-ab66cd7a3eae",
   "metadata": {},
   "outputs": [
    {
     "data": {
      "text/plain": [
       "1.0"
      ]
     },
     "execution_count": 4,
     "metadata": {},
     "output_type": "execute_result"
    }
   ],
   "source": [
    "import numpy as np\n",
    "np.linalg.norm(embeddings)"
   ]
  },
  {
   "cell_type": "code",
   "execution_count": 5,
   "id": "1daf7676-c07e-4fa3-a24c-2c061c767bbb",
   "metadata": {},
   "outputs": [
    {
     "data": {
      "text/plain": [
       "1.0000000000000002"
      ]
     },
     "execution_count": 5,
     "metadata": {},
     "output_type": "execute_result"
    }
   ],
   "source": [
    "v = embeddings[0]\n",
    "v.dot(v)"
   ]
  },
  {
   "cell_type": "markdown",
   "id": "c6687d59-dcd5-4ade-a517-1f809b271e31",
   "metadata": {},
   "source": [
    "#### Q2. Cosine similarity with another vector"
   ]
  },
  {
   "cell_type": "code",
   "execution_count": 6,
   "id": "c1c8d8a0-656a-46a2-9f8d-11be4b41ce68",
   "metadata": {},
   "outputs": [],
   "source": [
    "doc = 'Can I still join the course after the start date?'"
   ]
  },
  {
   "cell_type": "code",
   "execution_count": 7,
   "id": "3508fd91-9bdc-4b41-9b7d-8df670a9f0e3",
   "metadata": {},
   "outputs": [],
   "source": [
    "emb = list(model.embed(doc))\n"
   ]
  },
  {
   "cell_type": "code",
   "execution_count": 8,
   "id": "dfe34a86-fec9-4545-896f-b9408999f3eb",
   "metadata": {},
   "outputs": [
    {
     "data": {
      "text/plain": [
       "0.9008528895674548"
      ]
     },
     "execution_count": 8,
     "metadata": {},
     "output_type": "execute_result"
    }
   ],
   "source": [
    "v.dot(emb[0])"
   ]
  },
  {
   "cell_type": "markdown",
   "id": "1c413dcf-7983-438f-be74-2d95e342a4ab",
   "metadata": {},
   "source": [
    "#### Q3. Ranking by cosine"
   ]
  },
  {
   "cell_type": "code",
   "execution_count": 9,
   "id": "e433d895-b748-4abd-bd2d-aaeea8c0c91d",
   "metadata": {},
   "outputs": [],
   "source": [
    "documents = [{'text': \"Yes, even if you don't register, you're still eligible to submit the homeworks.\\nBe aware, however, that there will be deadlines for turning in the final projects. So don't leave everything for the last minute.\",\n",
    "  'section': 'General course-related questions',\n",
    "  'question': 'Course - Can I still join the course after the start date?',\n",
    "  'course': 'data-engineering-zoomcamp'},\n",
    " {'text': 'Yes, we will keep all the materials after the course finishes, so you can follow the course at your own pace after it finishes.\\nYou can also continue looking at the homeworks and continue preparing for the next cohort. I guess you can also start working on your final capstone project.',\n",
    "  'section': 'General course-related questions',\n",
    "  'question': 'Course - Can I follow the course after it finishes?',\n",
    "  'course': 'data-engineering-zoomcamp'},\n",
    " {'text': \"The purpose of this document is to capture frequently asked technical questions\\nThe exact day and hour of the course will be 15th Jan 2024 at 17h00. The course will start with the first  “Office Hours'' live.1\\nSubscribe to course public Google Calendar (it works from Desktop only).\\nRegister before the course starts using this link.\\nJoin the course Telegram channel with announcements.\\nDon’t forget to register in DataTalks.Club's Slack and join the channel.\",\n",
    "  'section': 'General course-related questions',\n",
    "  'question': 'Course - When will the course start?',\n",
    "  'course': 'data-engineering-zoomcamp'},\n",
    " {'text': 'You can start by installing and setting up all the dependencies and requirements:\\nGoogle cloud account\\nGoogle Cloud SDK\\nPython 3 (installed with Anaconda)\\nTerraform\\nGit\\nLook over the prerequisites and syllabus to see if you are comfortable with these subjects.',\n",
    "  'section': 'General course-related questions',\n",
    "  'question': 'Course - What can I do before the course starts?',\n",
    "  'course': 'data-engineering-zoomcamp'},\n",
    " {'text': 'Star the repo! Share it with friends if you find it useful ❣️\\nCreate a PR if you see you can improve the text or the structure of the repository.',\n",
    "  'section': 'General course-related questions',\n",
    "  'question': 'How can we contribute to the course?',\n",
    "  'course': 'data-engineering-zoomcamp'}]"
   ]
  },
  {
   "cell_type": "code",
   "execution_count": 10,
   "id": "0c59571b-0cd2-4cb9-b740-6e0048ff6844",
   "metadata": {},
   "outputs": [],
   "source": [
    "doc_texts = []\n",
    "for doc in documents:\n",
    "    doc_texts.append(doc.get('text'))\n"
   ]
  },
  {
   "cell_type": "code",
   "execution_count": 11,
   "id": "5eea1d16-c7e7-4d4e-84b0-fac30b2fcd17",
   "metadata": {},
   "outputs": [],
   "source": [
    "import numpy as np\n",
    "\n",
    "doc_texts = [doc.get('text') for doc in documents]\n",
    "doc_array = np.array(doc_texts).reshape(-1, 1)"
   ]
  },
  {
   "cell_type": "code",
   "execution_count": 12,
   "id": "47c7bf37-723a-47e0-ba5c-6f6cb475c5c2",
   "metadata": {},
   "outputs": [],
   "source": [
    "emb_doc_texts = list(model.embed(doc_texts))"
   ]
  },
  {
   "cell_type": "code",
   "execution_count": 13,
   "id": "a5b76b22-ee96-4850-aa3a-35655bff6083",
   "metadata": {},
   "outputs": [],
   "source": [
    "doc_array = np.array(emb_doc_texts).reshape(-1, 1)"
   ]
  },
  {
   "cell_type": "code",
   "execution_count": 14,
   "id": "b91f7cd0-f3ba-4b3f-b3ec-b59c952ca63e",
   "metadata": {},
   "outputs": [
    {
     "name": "stdout",
     "output_type": "stream",
     "text": [
      "0 ->  0.7629684696540238\n",
      "1 ->  0.8182378150042889\n",
      "2 ->  0.8085397398734189\n",
      "3 ->  0.7133079015686243\n",
      "4 ->  0.7304499234333598\n"
     ]
    }
   ],
   "source": [
    "for i, text in enumerate(emb_doc_texts):\n",
    "    print(i, '-> ', text.dot(v))"
   ]
  },
  {
   "cell_type": "markdown",
   "id": "1456b80b-2e30-4400-91c8-1df9bae10874",
   "metadata": {},
   "source": [
    "#### Q4. Ranking by cosine, version two"
   ]
  },
  {
   "cell_type": "code",
   "execution_count": 21,
   "id": "e4623acc-9852-41c6-9198-3fb38ecf0e67",
   "metadata": {},
   "outputs": [
    {
     "data": {
      "text/plain": [
       "\"Course - Can I still join the course after the start date? Yes, even if you don't register, you're still eligible to submit the homeworks.\\nBe aware, however, that there will be deadlines for turning in the final projects. So don't leave everything for the last minute.\""
      ]
     },
     "execution_count": 21,
     "metadata": {},
     "output_type": "execute_result"
    }
   ],
   "source": [
    "full_texts = [(doc.get('question') + ' ' + doc.get('text')) for doc in documents]\n",
    "full_texts[0]"
   ]
  },
  {
   "cell_type": "code",
   "execution_count": 29,
   "id": "c7666be0-cd70-427d-9829-136333ea5e57",
   "metadata": {},
   "outputs": [
    {
     "data": {
      "text/plain": [
       "'Course - Can I follow the course after it finishes? Yes, we will keep all the materials after the course finishes, so you can follow the course at your own pace after it finishes.\\nYou can also continue looking at the homeworks and continue preparing for the next cohort. I guess you can also start working on your final capstone project.'"
      ]
     },
     "execution_count": 29,
     "metadata": {},
     "output_type": "execute_result"
    }
   ],
   "source": [
    "full_texts[1]"
   ]
  },
  {
   "cell_type": "code",
   "execution_count": 22,
   "id": "b67e3c95-2615-4f9b-b52b-1611af490e5d",
   "metadata": {},
   "outputs": [],
   "source": [
    "emb_full_texts = list(model.embed(full_texts))\n",
    "full_texts_arr = np.array(emb_full_texts).reshape(-1, 1)\n",
    "# emb_question = list(model.embed(doc['question'])"
   ]
  },
  {
   "cell_type": "code",
   "execution_count": 28,
   "id": "9cd1d906-f9d3-4e50-b026-4efce07d4044",
   "metadata": {},
   "outputs": [
    {
     "data": {
      "text/plain": [
       "(512,)"
      ]
     },
     "execution_count": 28,
     "metadata": {},
     "output_type": "execute_result"
    }
   ],
   "source": [
    "# 'I just discovered the course. Can I join now?'\n",
    "v.shape"
   ]
  },
  {
   "cell_type": "code",
   "execution_count": 24,
   "id": "24953451-f45a-464c-afc5-1930a6951da7",
   "metadata": {},
   "outputs": [
    {
     "name": "stdout",
     "output_type": "stream",
     "text": [
      "0 ->  0.8514543236908068\n",
      "1 ->  0.8436594159113068\n",
      "2 ->  0.8408287048502558\n",
      "3 ->  0.7755157969663908\n",
      "4 ->  0.8086007795043938\n"
     ]
    }
   ],
   "source": [
    "for i, text in enumerate(emb_full_texts):\n",
    "    print(i, '-> ', text.dot(v))"
   ]
  },
  {
   "cell_type": "markdown",
   "id": "880234c5-7011-4e3c-a15b-91f2631ea2ed",
   "metadata": {},
   "source": [
    "There is difference between highest scoring document in Q3 (index 1) and Q4 (index 0) because in Q4 we are using vector from words from both question and answer, and in index 0 document question is almost the same like in query, so that vectors similarity becomes close to 1."
   ]
  },
  {
   "cell_type": "markdown",
   "id": "50910187-1fe9-431d-8bc0-2e1bdb9f6fcb",
   "metadata": {},
   "source": [
    "#### Q5. Selecting the embedding model"
   ]
  },
  {
   "cell_type": "code",
   "execution_count": 30,
   "id": "bc1dbb75-0f4b-4ff0-99f5-d1395057547d",
   "metadata": {},
   "outputs": [
    {
     "name": "stdout",
     "output_type": "stream",
     "text": [
      "384\n"
     ]
    }
   ],
   "source": [
    "import json\n",
    "\n",
    "mindim = 1000000\n",
    "for model in TextEmbedding.list_supported_models():\n",
    "    if model[\"dim\"] < mindim:\n",
    "        mindim = model[\"dim\"]\n",
    "print(mindim)"
   ]
  },
  {
   "cell_type": "code",
   "execution_count": 32,
   "id": "3b570996-30e5-41d4-a1ac-14192c71f06d",
   "metadata": {},
   "outputs": [
    {
     "name": "stdout",
     "output_type": "stream",
     "text": [
      "BAAI/bge-small-en\n",
      "BAAI/bge-small-en-v1.5\n",
      "snowflake/snowflake-arctic-embed-xs\n",
      "snowflake/snowflake-arctic-embed-s\n",
      "sentence-transformers/all-MiniLM-L6-v2\n",
      "sentence-transformers/paraphrase-multilingual-MiniLM-L12-v2\n"
     ]
    }
   ],
   "source": [
    "for model in TextEmbedding.list_supported_models():\n",
    "    if model[\"dim\"] == mindim:\n",
    "        print(model[\"model\"])"
   ]
  },
  {
   "cell_type": "code",
   "execution_count": 40,
   "id": "20559675-455c-48bd-9c65-021f22006f90",
   "metadata": {},
   "outputs": [],
   "source": [
    "model_q5 = 'BAAI/bge-small-en'"
   ]
  },
  {
   "cell_type": "markdown",
   "id": "0ab1e4b9-677e-463a-a710-1b51aa0190bc",
   "metadata": {},
   "source": [
    "####  Q6. Indexing with qdrant (2 points)"
   ]
  },
  {
   "cell_type": "code",
   "execution_count": 34,
   "id": "451ac134-7d70-4ff6-a95c-9146568c343c",
   "metadata": {},
   "outputs": [],
   "source": [
    "import requests \n",
    "\n",
    "docs_url = 'https://github.com/alexeygrigorev/llm-rag-workshop/raw/main/notebooks/documents.json'\n",
    "docs_response = requests.get(docs_url)\n",
    "documents_raw = docs_response.json()\n",
    "\n",
    "\n",
    "documents = []\n",
    "\n",
    "for course in documents_raw:\n",
    "    course_name = course['course']\n",
    "    if course_name != 'machine-learning-zoomcamp':\n",
    "        continue\n",
    "\n",
    "    for doc in course['documents']:\n",
    "        doc['course'] = course_name\n",
    "        documents.append(doc)"
   ]
  },
  {
   "cell_type": "code",
   "execution_count": 36,
   "id": "d9a8ceef-9e1c-40fa-bad8-2502af310fdd",
   "metadata": {},
   "outputs": [],
   "source": [
    "from qdrant_client import QdrantClient, models\n",
    "qd_client = QdrantClient(\"http://localhost:6333\")"
   ]
  },
  {
   "cell_type": "code",
   "execution_count": 38,
   "id": "190e7014-91ca-4b65-982c-46e35dcc24ff",
   "metadata": {},
   "outputs": [
    {
     "data": {
      "text/plain": [
       "True"
      ]
     },
     "execution_count": 38,
     "metadata": {},
     "output_type": "execute_result"
    }
   ],
   "source": [
    "# Define the collection name\n",
    "collection_name = \"zoomcamp-ml_only\"\n",
    "\n",
    "# Create the collection with specified vector parameters\n",
    "qd_client.create_collection(\n",
    "    collection_name=collection_name,\n",
    "    vectors_config=models.VectorParams(\n",
    "        size=mindim,  # Dimensionality of the vectors\n",
    "        distance=models.Distance.COSINE  # Distance metric for similarity search\n",
    "    )\n",
    ")"
   ]
  },
  {
   "cell_type": "code",
   "execution_count": 39,
   "id": "0f1011fa-6556-41e6-aea5-bcf0fa67f449",
   "metadata": {},
   "outputs": [
    {
     "data": {
      "text/plain": [
       "{'text': 'Machine Learning Zoomcamp FAQ\\nThe purpose of this document is to capture frequently asked technical questions.\\nWe did this for our data engineering course and it worked quite well. Check this document for inspiration on how to structure your questions and answers:\\nData Engineering Zoomcamp FAQ\\nIn the course GitHub repository there’s a link. Here it is: https://airtable.com/shryxwLd0COOEaqXo\\nwork',\n",
       " 'section': 'General course-related questions',\n",
       " 'question': 'How do I sign up?',\n",
       " 'course': 'machine-learning-zoomcamp'}"
      ]
     },
     "execution_count": 39,
     "metadata": {},
     "output_type": "execute_result"
    }
   ],
   "source": [
    "documents[0]"
   ]
  },
  {
   "cell_type": "code",
   "execution_count": 41,
   "id": "f0f42361-cf51-45f3-baf4-49a081cb2356",
   "metadata": {},
   "outputs": [],
   "source": [
    "points = []\n",
    "\n",
    "for i, doc in enumerate(documents):\n",
    "    point = models.PointStruct(\n",
    "        id=i,\n",
    "        vector=models.Document(text=(doc.get('question') + ' ' + doc.get('text')), model=model_q5), #embed text locally \n",
    "    )\n",
    "    points.append(point)\n",
    "\n"
   ]
  },
  {
   "cell_type": "code",
   "execution_count": 43,
   "id": "ac460e62-9c23-4f40-bd53-19f919f9bd51",
   "metadata": {},
   "outputs": [
    {
     "data": {
      "application/vnd.jupyter.widget-view+json": {
       "model_id": "0e11849008d74bf19a3ed994850a8789",
       "version_major": 2,
       "version_minor": 0
      },
      "text/plain": [
       "Fetching 5 files:   0%|          | 0/5 [00:00<?, ?it/s]"
      ]
     },
     "metadata": {},
     "output_type": "display_data"
    },
    {
     "data": {
      "application/vnd.jupyter.widget-view+json": {
       "model_id": "6576eba7f4154b76a176eaddf545bdad",
       "version_major": 2,
       "version_minor": 0
      },
      "text/plain": [
       "tokenizer.json: 0.00B [00:00, ?B/s]"
      ]
     },
     "metadata": {},
     "output_type": "display_data"
    },
    {
     "data": {
      "application/vnd.jupyter.widget-view+json": {
       "model_id": "7fff884045fa43d885b59aa981e3d73d",
       "version_major": 2,
       "version_minor": 0
      },
      "text/plain": [
       "special_tokens_map.json:   0%|          | 0.00/125 [00:00<?, ?B/s]"
      ]
     },
     "metadata": {},
     "output_type": "display_data"
    },
    {
     "data": {
      "application/vnd.jupyter.widget-view+json": {
       "model_id": "5dbc45e1f50542ae87db2dcdc8fb3558",
       "version_major": 2,
       "version_minor": 0
      },
      "text/plain": [
       "tokenizer_config.json:   0%|          | 0.00/366 [00:00<?, ?B/s]"
      ]
     },
     "metadata": {},
     "output_type": "display_data"
    },
    {
     "data": {
      "application/vnd.jupyter.widget-view+json": {
       "model_id": "6c3485d9a83d4cea822465ff76dbfb63",
       "version_major": 2,
       "version_minor": 0
      },
      "text/plain": [
       "config.json:   0%|          | 0.00/701 [00:00<?, ?B/s]"
      ]
     },
     "metadata": {},
     "output_type": "display_data"
    },
    {
     "data": {
      "application/vnd.jupyter.widget-view+json": {
       "model_id": "cab5b70632c446fdad73b0934b99e973",
       "version_major": 2,
       "version_minor": 0
      },
      "text/plain": [
       "model_optimized.onnx:   0%|          | 0.00/133M [00:00<?, ?B/s]"
      ]
     },
     "metadata": {},
     "output_type": "display_data"
    },
    {
     "data": {
      "text/plain": [
       "UpdateResult(operation_id=0, status=<UpdateStatus.COMPLETED: 'completed'>)"
      ]
     },
     "execution_count": 43,
     "metadata": {},
     "output_type": "execute_result"
    }
   ],
   "source": [
    "qd_client.upsert(\n",
    "    collection_name=collection_name,\n",
    "    points=points\n",
    ")"
   ]
  },
  {
   "cell_type": "code",
   "execution_count": 44,
   "id": "f428f4a3-6e8e-4fbb-ba43-63e58defde05",
   "metadata": {},
   "outputs": [],
   "source": [
    "def search(query, limit=1):\n",
    "\n",
    "    results = qd_client.query_points(\n",
    "        collection_name=collection_name,\n",
    "        query=models.Document( #embed the query text locally with \"jinaai/jina-embeddings-v2-small-en\"\n",
    "            text=query,\n",
    "            model=model_q5\n",
    "        ),\n",
    "        limit=limit, # top closest matches\n",
    "        with_payload=True #to get metadata in the results\n",
    "    )\n",
    "\n",
    "    return results"
   ]
  },
  {
   "cell_type": "code",
   "execution_count": 45,
   "id": "86f14299-00da-4513-bc9b-bcb7d8985e30",
   "metadata": {},
   "outputs": [],
   "source": [
    "result = search('I just discovered the course. Can I join now?')"
   ]
  },
  {
   "cell_type": "code",
   "execution_count": 51,
   "id": "9e3263fe-fea6-4326-aa16-c4d0ebc9d7ba",
   "metadata": {},
   "outputs": [
    {
     "data": {
      "text/plain": [
       "QueryResponse(points=[ScoredPoint(id=14, version=0, score=0.8703172, payload={}, vector=None, shard_key=None, order_value=None)])"
      ]
     },
     "execution_count": 51,
     "metadata": {},
     "output_type": "execute_result"
    }
   ],
   "source": [
    "result"
   ]
  }
 ],
 "metadata": {
  "kernelspec": {
   "display_name": "Python 3 (ipykernel)",
   "language": "python",
   "name": "python3"
  },
  "language_info": {
   "codemirror_mode": {
    "name": "ipython",
    "version": 3
   },
   "file_extension": ".py",
   "mimetype": "text/x-python",
   "name": "python",
   "nbconvert_exporter": "python",
   "pygments_lexer": "ipython3",
   "version": "3.10.12"
  }
 },
 "nbformat": 4,
 "nbformat_minor": 5
}
