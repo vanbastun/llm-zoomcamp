{
 "cells": [
  {
   "cell_type": "markdown",
   "id": "a92b8bb0-ee32-4d21-8fb8-32040a6efd4a",
   "metadata": {},
   "source": [
    "## llm_zoomcamp module 2 \n",
    "#### 02-vector-search\n",
    "import faq documents; run qdarnt vector search in docker; api call to openrouter.ai using key from .env file\n",
    "model used for homework -- deepseek/deepseek-r1-0528:free"
   ]
  },
  {
   "cell_type": "code",
   "execution_count": 2,
   "id": "dd2f6ba8-be0a-40dc-9913-f52f07ce486b",
   "metadata": {},
   "outputs": [],
   "source": [
    "import requests \n",
    "\n",
    "docs_url = 'https://github.com/DataTalksClub/llm-zoomcamp/blob/main/01-intro/documents.json?raw=1'\n",
    "docs_response = requests.get(docs_url)\n",
    "documents_raw = docs_response.json()\n",
    "\n",
    "documents = []\n",
    "\n",
    "for course in documents_raw:\n",
    "    course_name = course['course']\n",
    "\n",
    "    for doc in course['documents']:\n",
    "        doc['course'] = course_name\n",
    "        documents.append(doc)"
   ]
  },
  {
   "cell_type": "markdown",
   "id": "29c87a7e-d2dc-421d-9070-740ae307ec14",
   "metadata": {},
   "source": [
    "docker run -p 6333:6333 -p 6334:6334    -v \"$(pwd)/qdrant_storage:/qdrant/storage:z\"    qdrant/qdrant"
   ]
  },
  {
   "cell_type": "code",
   "execution_count": 5,
   "id": "1b7516f4-17f4-4d50-b8b1-1fdaaf899cca",
   "metadata": {},
   "outputs": [
    {
     "name": "stdout",
     "output_type": "stream",
     "text": [
      "/home/ubuser/llm-zoomcamp\n",
      "['/home/ubuser/llm-zoomcamp', '/home/ubuser/spark/spark-3.3.2-bin-hadoop3/python/lib/py4j-0.10.9.5-src.zip', '/home/ubuser/spark/spark-3.3.2-bin-hadoop3/python', '/home/ubuser/llm-zoomcamp/02-vector-search', '/usr/lib/python310.zip', '/usr/lib/python3.10', '/usr/lib/python3.10/lib-dynload', '', '/home/ubuser/.local/lib/python3.10/site-packages', '/usr/local/lib/python3.10/dist-packages', '/usr/local/lib/python3.10/dist-packages/eflomal-0.1-py3.10-linux-x86_64.egg', '/usr/lib/python3/dist-packages', '/usr/lib/python3.10/dist-packages']\n"
     ]
    }
   ],
   "source": [
    "import sys\n",
    "import os\n",
    "\n",
    "# Get the parent directory of the current notebook\n",
    "parent_dir = os.path.abspath(os.path.join(os.getcwd(), '..'))\n",
    "print(parent_dir)\n",
    "if parent_dir not in sys.path:\n",
    "    sys.path.insert(0, parent_dir)\n",
    "\n",
    "print(sys.path)\n",
    "from api_call import chat_with_openrouter"
   ]
  },
  {
   "cell_type": "code",
   "execution_count": null,
   "id": "18867920-cd63-4b39-ba5f-f8e193b35eee",
   "metadata": {},
   "outputs": [],
   "source": []
  },
  {
   "cell_type": "code",
   "execution_count": 6,
   "id": "fb238e80-c710-458e-a433-9dfc783107ca",
   "metadata": {},
   "outputs": [],
   "source": [
    "from qdrant_client import QdrantClient, models\n",
    "qd_client = QdrantClient(\"http://localhost:6333\")\n",
    "EMBEDDING_DIMENSIONALITY = 512\n",
    "model_handle = \"jinaai/jina-embeddings-v2-small-en\"\n",
    "collection_name = \"zoomcamp-faq\"\n"
   ]
  },
  {
   "cell_type": "code",
   "execution_count": 7,
   "id": "97e0a684-3aac-4241-8786-ea93158bf2d7",
   "metadata": {},
   "outputs": [
    {
     "data": {
      "text/plain": [
       "False"
      ]
     },
     "execution_count": 7,
     "metadata": {},
     "output_type": "execute_result"
    }
   ],
   "source": [
    "qd_client.delete_collection(collection_name=collection_name)"
   ]
  },
  {
   "cell_type": "code",
   "execution_count": 8,
   "id": "51aa4f46-610f-4733-8386-24114512ed1c",
   "metadata": {},
   "outputs": [
    {
     "data": {
      "text/plain": [
       "True"
      ]
     },
     "execution_count": 8,
     "metadata": {},
     "output_type": "execute_result"
    }
   ],
   "source": [
    "\n",
    "qd_client.create_collection(\n",
    "    collection_name=collection_name,\n",
    "    vectors_config=models.VectorParams(\n",
    "        size=EMBEDDING_DIMENSIONALITY,\n",
    "        distance=models.Distance.COSINE\n",
    "    )\n",
    ")"
   ]
  },
  {
   "cell_type": "code",
   "execution_count": 9,
   "id": "8915bb0f-ed99-4ba9-a95c-40cd8ca88681",
   "metadata": {},
   "outputs": [
    {
     "data": {
      "text/plain": [
       "UpdateResult(operation_id=1, status=<UpdateStatus.COMPLETED: 'completed'>)"
      ]
     },
     "execution_count": 9,
     "metadata": {},
     "output_type": "execute_result"
    }
   ],
   "source": [
    "qd_client.create_payload_index(\n",
    "    collection_name=collection_name,\n",
    "    field_name=\"course\",\n",
    "    field_schema=\"keyword\"\n",
    ")"
   ]
  },
  {
   "cell_type": "code",
   "execution_count": 10,
   "id": "874ccb82-76be-47ac-b710-ef98ceff3a16",
   "metadata": {},
   "outputs": [],
   "source": [
    "points = []\n",
    "\n",
    "for i, doc in enumerate(documents):\n",
    "    text = doc['question'] + ' ' + doc['text']\n",
    "    vector = models.Document(text=text, model=model_handle)\n",
    "    point = models.PointStruct(\n",
    "        id=i,\n",
    "        vector=vector,\n",
    "        payload=doc\n",
    "    )\n",
    "    points.append(point)"
   ]
  },
  {
   "cell_type": "code",
   "execution_count": 12,
   "id": "a7e36ab5-9c2a-4899-ae72-c1f180afbbd7",
   "metadata": {},
   "outputs": [
    {
     "data": {
      "text/plain": [
       "UpdateResult(operation_id=3, status=<UpdateStatus.COMPLETED: 'completed'>)"
      ]
     },
     "execution_count": 12,
     "metadata": {},
     "output_type": "execute_result"
    }
   ],
   "source": [
    "qd_client.upsert(\n",
    "    collection_name=collection_name,\n",
    "    points=points\n",
    ")"
   ]
  },
  {
   "cell_type": "code",
   "execution_count": 13,
   "id": "7a5107e3-61d8-4e90-99af-2bb219aa976c",
   "metadata": {},
   "outputs": [],
   "source": [
    "def vector_search(question):\n",
    "    print('vector_search is used')\n",
    "    \n",
    "    course = 'data-engineering-zoomcamp'\n",
    "    query_points = qd_client.query_points(\n",
    "        collection_name=collection_name,\n",
    "        query=models.Document(\n",
    "            text=question,\n",
    "            model=model_handle \n",
    "        ),\n",
    "        query_filter=models.Filter( \n",
    "            must=[\n",
    "                models.FieldCondition(\n",
    "                    key=\"course\",\n",
    "                    match=models.MatchValue(value=course)\n",
    "                )\n",
    "            ]\n",
    "        ),\n",
    "        limit=5,\n",
    "        with_payload=True\n",
    "    )\n",
    "    \n",
    "    results = []\n",
    "    \n",
    "    for point in query_points.points:\n",
    "        results.append(point.payload)\n",
    "    \n",
    "    return results"
   ]
  },
  {
   "cell_type": "code",
   "execution_count": 14,
   "id": "83d0df5c-ac8c-4f78-92bd-241ef8dd2127",
   "metadata": {},
   "outputs": [],
   "source": [
    "def build_prompt(query, search_results):\n",
    "    prompt_template = \"\"\"\n",
    "You're a course teaching assistant. Answer the QUESTION based on the CONTEXT from the FAQ database.\n",
    "Use only the facts from the CONTEXT when answering the QUESTION.\n",
    "\n",
    "QUESTION: {question}\n",
    "\n",
    "CONTEXT: \n",
    "{context}\n",
    "\"\"\".strip()\n",
    "\n",
    "    context = \"\"\n",
    "    \n",
    "    for doc in search_results:\n",
    "        context = context + f\"section: {doc['section']}\\nquestion: {doc['question']}\\nanswer: {doc['text']}\\n\\n\"\n",
    "    \n",
    "    prompt = prompt_template.format(question=query, context=context).strip()\n",
    "    return prompt"
   ]
  },
  {
   "cell_type": "code",
   "execution_count": 19,
   "id": "5f41b7b8-f0b4-4a86-b3c5-e01af77dfb4e",
   "metadata": {},
   "outputs": [],
   "source": [
    "def rag(query, details=False):\n",
    "    search_results = vector_search(query)\n",
    "    prompt = build_prompt(query, search_results)\n",
    "    answer = chat_with_openrouter(prompt)\n",
    "    if details:\n",
    "        return answer\n",
    "    else:\n",
    "        return answer['choices'][0]['message']['content']"
   ]
  },
  {
   "cell_type": "code",
   "execution_count": 16,
   "id": "d144d061-4701-406f-843b-8b8f8c0963cc",
   "metadata": {},
   "outputs": [],
   "source": [
    "query = \"How do execute a command on a Kubernetes pod?\""
   ]
  },
  {
   "cell_type": "code",
   "execution_count": 20,
   "id": "36bb3bc6-fede-4c11-ae32-4f38b9b46493",
   "metadata": {},
   "outputs": [
    {
     "name": "stdout",
     "output_type": "stream",
     "text": [
      "vector_search is used\n"
     ]
    },
    {
     "data": {
      "text/plain": [
       "'Based solely on the provided FAQ context:\\n\\n**Yes, you can enroll and participate even after the course has started.**\\n\\nHere\\'s why, according to the CONTEXT:\\n\\n1.  **Registration is not required for participation:** \"You can also just start learning and submitting homework without registering. It is not checked against any registered list. Registration is just to gauge interest before the start date.\" (From *Course - I have registered for the Data Engineering Bootcamp...*)\\n2.  **Specifically allows joining after start:** \"Yes, even if you don\\'t register, you\\'re still eligible to submit the homeworks.\" (From *Course - Can I still join the course after the start date?*)\\n3.  **Access to materials is maintained:** While focusing on post-course access, the answer for *Course - Can I follow the course after it finishes?* implies the materials and homework access remain open, supporting ongoing participation.\\n\\n**Important Note:** While enrollment and homework submission are open, be aware of deadlines: \"there will be deadlines for turning in the final projects. So don\\'t leave everything for the last minute.\" (From *Course - Can I still join the course after the start date?*)'"
      ]
     },
     "execution_count": 20,
     "metadata": {},
     "output_type": "execute_result"
    }
   ],
   "source": [
    "rag('the course has already started, can I still enroll?')"
   ]
  },
  {
   "cell_type": "markdown",
   "id": "f45efe4e-f40c-40fa-ba1f-a8d2af873a89",
   "metadata": {},
   "source": [
    "# COHORT 2"
   ]
  },
  {
   "cell_type": "markdown",
   "id": "426cbfbf-45bb-4607-8fe4-a37275fe4617",
   "metadata": {},
   "source": [
    "#### Q1. Embedding the query"
   ]
  },
  {
   "cell_type": "code",
   "execution_count": 24,
   "id": "469ba464-d433-4a81-8d11-30cfd912a583",
   "metadata": {},
   "outputs": [
    {
     "name": "stdout",
     "output_type": "stream",
     "text": [
      "-0.11726373885183883\n"
     ]
    }
   ],
   "source": [
    "from fastembed import TextEmbedding, SparseTextEmbedding\n",
    "\n",
    "model = TextEmbedding(model_name=\"jinaai/jina-embeddings-v2-small-en\")\n",
    "embeddings = list(model.embed(['I just discovered the course. Can I join now?']))\n",
    "\n",
    "print(min(embeddings[0]))"
   ]
  },
  {
   "cell_type": "code",
   "execution_count": 25,
   "id": "ea4c9e86-e838-4ff3-9be0-ab66cd7a3eae",
   "metadata": {},
   "outputs": [
    {
     "data": {
      "text/plain": [
       "1.0"
      ]
     },
     "execution_count": 25,
     "metadata": {},
     "output_type": "execute_result"
    }
   ],
   "source": [
    "import numpy as np\n",
    "np.linalg.norm(embeddings)"
   ]
  },
  {
   "cell_type": "code",
   "execution_count": 27,
   "id": "1daf7676-c07e-4fa3-a24c-2c061c767bbb",
   "metadata": {},
   "outputs": [
    {
     "data": {
      "text/plain": [
       "1.0000000000000002"
      ]
     },
     "execution_count": 27,
     "metadata": {},
     "output_type": "execute_result"
    }
   ],
   "source": [
    "v = embeddings[0]\n",
    "v.dot(v)"
   ]
  },
  {
   "cell_type": "markdown",
   "id": "c6687d59-dcd5-4ade-a517-1f809b271e31",
   "metadata": {},
   "source": [
    "#### Q2. Cosine similarity with another vector"
   ]
  },
  {
   "cell_type": "code",
   "execution_count": 28,
   "id": "c1c8d8a0-656a-46a2-9f8d-11be4b41ce68",
   "metadata": {},
   "outputs": [],
   "source": [
    "doc = 'Can I still join the course after the start date?'"
   ]
  },
  {
   "cell_type": "code",
   "execution_count": 30,
   "id": "3508fd91-9bdc-4b41-9b7d-8df670a9f0e3",
   "metadata": {},
   "outputs": [],
   "source": [
    "emb = list(model.embed(doc))\n"
   ]
  },
  {
   "cell_type": "code",
   "execution_count": 31,
   "id": "dfe34a86-fec9-4545-896f-b9408999f3eb",
   "metadata": {},
   "outputs": [
    {
     "data": {
      "text/plain": [
       "0.9008528895674548"
      ]
     },
     "execution_count": 31,
     "metadata": {},
     "output_type": "execute_result"
    }
   ],
   "source": [
    "v.dot(emb[0])"
   ]
  },
  {
   "cell_type": "markdown",
   "id": "1c413dcf-7983-438f-be74-2d95e342a4ab",
   "metadata": {},
   "source": [
    "#### Q3. Ranking by cosine"
   ]
  },
  {
   "cell_type": "code",
   "execution_count": 32,
   "id": "e433d895-b748-4abd-bd2d-aaeea8c0c91d",
   "metadata": {},
   "outputs": [],
   "source": [
    "documents = [{'text': \"Yes, even if you don't register, you're still eligible to submit the homeworks.\\nBe aware, however, that there will be deadlines for turning in the final projects. So don't leave everything for the last minute.\",\n",
    "  'section': 'General course-related questions',\n",
    "  'question': 'Course - Can I still join the course after the start date?',\n",
    "  'course': 'data-engineering-zoomcamp'},\n",
    " {'text': 'Yes, we will keep all the materials after the course finishes, so you can follow the course at your own pace after it finishes.\\nYou can also continue looking at the homeworks and continue preparing for the next cohort. I guess you can also start working on your final capstone project.',\n",
    "  'section': 'General course-related questions',\n",
    "  'question': 'Course - Can I follow the course after it finishes?',\n",
    "  'course': 'data-engineering-zoomcamp'},\n",
    " {'text': \"The purpose of this document is to capture frequently asked technical questions\\nThe exact day and hour of the course will be 15th Jan 2024 at 17h00. The course will start with the first  “Office Hours'' live.1\\nSubscribe to course public Google Calendar (it works from Desktop only).\\nRegister before the course starts using this link.\\nJoin the course Telegram channel with announcements.\\nDon’t forget to register in DataTalks.Club's Slack and join the channel.\",\n",
    "  'section': 'General course-related questions',\n",
    "  'question': 'Course - When will the course start?',\n",
    "  'course': 'data-engineering-zoomcamp'},\n",
    " {'text': 'You can start by installing and setting up all the dependencies and requirements:\\nGoogle cloud account\\nGoogle Cloud SDK\\nPython 3 (installed with Anaconda)\\nTerraform\\nGit\\nLook over the prerequisites and syllabus to see if you are comfortable with these subjects.',\n",
    "  'section': 'General course-related questions',\n",
    "  'question': 'Course - What can I do before the course starts?',\n",
    "  'course': 'data-engineering-zoomcamp'},\n",
    " {'text': 'Star the repo! Share it with friends if you find it useful ❣️\\nCreate a PR if you see you can improve the text or the structure of the repository.',\n",
    "  'section': 'General course-related questions',\n",
    "  'question': 'How can we contribute to the course?',\n",
    "  'course': 'data-engineering-zoomcamp'}]"
   ]
  },
  {
   "cell_type": "code",
   "execution_count": 46,
   "id": "0c59571b-0cd2-4cb9-b740-6e0048ff6844",
   "metadata": {},
   "outputs": [],
   "source": [
    "doc_texts = []\n",
    "for doc in documents:\n",
    "    doc_texts.append(doc.get('text'))\n"
   ]
  },
  {
   "cell_type": "code",
   "execution_count": 44,
   "id": "5eea1d16-c7e7-4d4e-84b0-fac30b2fcd17",
   "metadata": {},
   "outputs": [],
   "source": [
    "import numpy as np\n",
    "\n",
    "doc_texts = [doc.get('text') for doc in documents]\n",
    "doc_array = np.array(doc_texts).reshape(-1, 1)"
   ]
  },
  {
   "cell_type": "code",
   "execution_count": 48,
   "id": "47c7bf37-723a-47e0-ba5c-6f6cb475c5c2",
   "metadata": {},
   "outputs": [],
   "source": [
    "emb_doc_texts = list(model.embed(doc_texts))"
   ]
  },
  {
   "cell_type": "code",
   "execution_count": 49,
   "id": "a5b76b22-ee96-4850-aa3a-35655bff6083",
   "metadata": {},
   "outputs": [],
   "source": [
    "doc_array = np.array(emb_doc_texts).reshape(-1, 1)"
   ]
  },
  {
   "cell_type": "code",
   "execution_count": 52,
   "id": "b91f7cd0-f3ba-4b3f-b3ec-b59c952ca63e",
   "metadata": {},
   "outputs": [
    {
     "name": "stdout",
     "output_type": "stream",
     "text": [
      "0.7629684696540238\n",
      "0.8182378150042889\n",
      "0.8085397398734189\n",
      "0.7133079015686243\n",
      "0.7304499234333598\n"
     ]
    }
   ],
   "source": [
    "for text in emb_doc_texts:\n",
    "    print(text.dot(v))"
   ]
  },
  {
   "cell_type": "code",
   "execution_count": null,
   "id": "11fccf8a-edb7-4f51-9007-8d5f44d4a225",
   "metadata": {},
   "outputs": [],
   "source": []
  }
 ],
 "metadata": {
  "kernelspec": {
   "display_name": "Python 3 (ipykernel)",
   "language": "python",
   "name": "python3"
  },
  "language_info": {
   "codemirror_mode": {
    "name": "ipython",
    "version": 3
   },
   "file_extension": ".py",
   "mimetype": "text/x-python",
   "name": "python",
   "nbconvert_exporter": "python",
   "pygments_lexer": "ipython3",
   "version": "3.10.12"
  }
 },
 "nbformat": 4,
 "nbformat_minor": 5
}
