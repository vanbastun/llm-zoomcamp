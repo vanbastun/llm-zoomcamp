{
 "cells": [
  {
   "cell_type": "code",
   "execution_count": 2,
   "id": "46535cbb-7da3-45f0-816f-eb86c3ee4d11",
   "metadata": {},
   "outputs": [
    {
     "data": {
      "text/markdown": [
       "## Full API Response"
      ],
      "text/plain": [
       "<IPython.core.display.Markdown object>"
      ]
     },
     "metadata": {},
     "output_type": "display_data"
    },
    {
     "data": {
      "text/markdown": [
       "```json\n",
       "{\n",
       "  \"id\": \"gen-1749045358-XYdTZwdLcv0VIVmbfCET\",\n",
       "  \"provider\": \"Chutes\",\n",
       "  \"model\": \"deepseek/deepseek-r1-0528:free\",\n",
       "  \"object\": \"chat.completion\",\n",
       "  \"created\": 1749045359,\n",
       "  \"choices\": [\n",
       "    {\n",
       "      \"logprobs\": null,\n",
       "      \"finish_reason\": \"stop\",\n",
       "      \"native_finish_reason\": \"stop\",\n",
       "      \"index\": 0,\n",
       "      \"message\": {\n",
       "        \"role\": \"assistant\",\n",
       "        \"content\": \"The question of \\\"What is the meaning of life?\\\" is perhaps the biggest and oldest human question, **and there is no single, universally agreed-upon answer.** Different fields and belief systems offer different perspectives. Here's a breakdown of the main approaches:\\n\\n1.  **Scientific/Empirical Perspective:**\\n    *   **Continuation & Evolution:** Meaning in life, from a strictly biological viewpoint, lies in survival and reproduction \\u2013 passing on genes to ensure the continuation of the species. It's driven by evolution.\\n    *   **Flourishing:** Building on this, meaning might come from thriving as a complex organism \\u2013 experiencing well-being, forming social bonds, learning, and adapting.\\n\\n2.  **Philosophical Perspectives:**\\n    *   **Existentialism:** Life has no inherent, predetermined meaning given by gods or the universe. We are *radically free* and must create our *own* meaning through our choices, actions, passions, and commitments (e.g., Sartre, Camus).\\n    *   **Nihilism:** Life has *no* intrinsic meaning or value. This can be viewed pessimistically (meaninglessness leads to despair) or neutrally/positively (freeing us to create our own value without constraints).\\n    *   **Absurdism:** Humans inherently seek meaning, but the universe is silent and indifferent (the Absurd). Meaning must be found or created *in defiance* of this indifference, embracing the struggle itself (e.g., Camus).\\n    *   **Humanism:** Meaning is found in human potential, reason, ethics, compassion, and striving for the betterment of individuals and humanity, without reliance on supernatural beliefs.\\n\\n3.  **Religious & Spiritual Perspectives:**\\n    *   **Purpose from a Higher Power:** Many religions teach that life's meaning is given by a deity (or deities). It often involves fulfilling a divine purpose, achieving spiritual enlightenment, building a relationship with the divine, following sacred laws, working towards salvation, or contributing to a divine plan (e.g., serving God, achieving Nirvana, following Dharma, etc.).\\n    *   **Connection to the Sacred:** Meaning can be found in a deep connection with a transcendent reality, spirit, or the interconnected web of all existence.\\n\\n4.  **The Subjective/Pragmatic Approach:**\\n    *   **Meaning is Personal and Created:** Most modern thought converges here \\u2013 life's meaning isn't found \\\"out there\\\" waiting to be discovered, but rather crafted *by individuals* through:\\n        *   **Passion & Engagement:** Deeply pursuing interests, work, relationships, or hobbies that absorb and inspire you (Flow states).\\n        *   **Relationships & Connection:** Building deep bonds with family, friends, partners, and community; experiencing love, belonging, and contribution to others' lives.\\n        *   **Growth & Self-Actualization:** Continuously learning, developing skills, overcoming challenges, and striving to reach your full potential.\\n        *   **Contribution/Legacy:** Making a positive impact on others, society, or the world; leaving something meaningful behind.\\n        *   **Experiencing Life Fully:** Savoring beauty (art, nature), seeking joy, wonder, and fulfillment in everyday moments.\\n\\n**Key Takeaways:**\\n\\n*   **There is no single, objective answer.**\\n*   **It's a deeply personal quest:** You get to (and likely must) create and discover your own sense of meaning based on your values, beliefs, experiences, and passions.\\n*   **Meaning often comes from engagement & connection:** Investing energy in relationships, passions, creative pursuits, or causes larger than yourself tends to foster a stronger sense of meaning.\\n*   **Meaning can change over time:** What feels meaningful at 20 may differ at 40 or 70.\\n*   **It's an ongoing process, not a destination:** Searching for and building meaning is a continuous part of life.\\n\\n**In essence: The \\\"meaning of life\\\" might be the very act of exploring, creating, and experiencing what it means to *be alive* as a conscious, feeling, connecting, and evolving human being.** It's woven into your relationships, your passions, your struggles, your growth, and your contributions to the world around you. **What feels meaningful to *you*?** That's the most important answer.\",\n",
       "        \"refusal\": null,\n",
       "        \"reasoning\": \"Okay, the user asked \\\"What is the meaning of life?\\\" That's a huge question! Let me start by breaking down why someone might ask this. They could be feeling lost, searching for purpose, or just curious. I need to consider their possible context. Are they going through a life change? Questioning their existence? Maybe a student exploring philosophy?\\n\\nFirst, I should acknowledge the question's depth. It's not something with a simple answer. People often ask this during times of reflection or crisis. So, their unspoken need might be seeking reassurance, guidance, or different perspectives to find their own path.\\n\\nI recall that answers vary across fields. Science focuses on biology and evolution\\u2014survival and reproduction. Philosophy offers existential and subjective views. Religion provides spiritual purposes. It's important to cover these without favoring one, letting them choose what resonates.\\n\\nThey might feel overwhelmed. So, structuring the answer into approaches helps. Mentioning science, philosophy, and religion gives frameworks. Also, including that meaning is personal empowers them. Highlighting that creating meaning is an active process could address their need for agency.\\n\\nThey might be looking for validation that it's okay not to have a universal answer. Emphasizing individual creation of meaning can alleviate pressure. Also, actions like passions, connections, growth, and impact offer practical steps. This shifts from abstract to actionable, which might help if they're feeling stuck.\\n\\nI should ask myself: is there an deeper need? Possibly a search for belonging, fulfillment, or coping with existential dread. By offering varied perspectives and stressing personal journey, the response can provide comfort without claiming a single truth. Encouraging exploration and curiosity addresses the need for ongoing discovery rather than a fixed answer.\\n\\nAlso, noting that it's okay if the meaning changes over time adds flexibility. People's priorities evolve, so acknowledging that can reduce anxiety about finding a \\\"perfect\\\" purpose. Including examples like kindness, creativity, learning makes it tangible.\\n\\nNeed to avoid sounding dogmatic. Presenting options neutrally ensures they don't feel pressured. Balancing between providing information and leaving space for their reflection is key. Ending with exploratory questions invites them to engage further, showing it's a conversation, not a lecture.\\n\"\n",
       "      }\n",
       "    }\n",
       "  ],\n",
       "  \"usage\": {\n",
       "    \"prompt_tokens\": 13,\n",
       "    \"completion_tokens\": 1334,\n",
       "    \"total_tokens\": 1347\n",
       "  }\n",
       "}\n",
       "```"
      ],
      "text/plain": [
       "<IPython.core.display.Markdown object>"
      ]
     },
     "metadata": {},
     "output_type": "display_data"
    },
    {
     "data": {
      "text/markdown": [
       "## Model's Response"
      ],
      "text/plain": [
       "<IPython.core.display.Markdown object>"
      ]
     },
     "metadata": {},
     "output_type": "display_data"
    },
    {
     "data": {
      "text/markdown": [
       "The question of \"What is the meaning of life?\" is perhaps the biggest and oldest human question, **and there is no single, universally agreed-upon answer.** Different fields and belief systems offer different perspectives. Here's a breakdown of the main approaches:\n",
       "\n",
       "1.  **Scientific/Empirical Perspective:**\n",
       "    *   **Continuation & Evolution:** Meaning in life, from a strictly biological viewpoint, lies in survival and reproduction – passing on genes to ensure the continuation of the species. It's driven by evolution.\n",
       "    *   **Flourishing:** Building on this, meaning might come from thriving as a complex organism – experiencing well-being, forming social bonds, learning, and adapting.\n",
       "\n",
       "2.  **Philosophical Perspectives:**\n",
       "    *   **Existentialism:** Life has no inherent, predetermined meaning given by gods or the universe. We are *radically free* and must create our *own* meaning through our choices, actions, passions, and commitments (e.g., Sartre, Camus).\n",
       "    *   **Nihilism:** Life has *no* intrinsic meaning or value. This can be viewed pessimistically (meaninglessness leads to despair) or neutrally/positively (freeing us to create our own value without constraints).\n",
       "    *   **Absurdism:** Humans inherently seek meaning, but the universe is silent and indifferent (the Absurd). Meaning must be found or created *in defiance* of this indifference, embracing the struggle itself (e.g., Camus).\n",
       "    *   **Humanism:** Meaning is found in human potential, reason, ethics, compassion, and striving for the betterment of individuals and humanity, without reliance on supernatural beliefs.\n",
       "\n",
       "3.  **Religious & Spiritual Perspectives:**\n",
       "    *   **Purpose from a Higher Power:** Many religions teach that life's meaning is given by a deity (or deities). It often involves fulfilling a divine purpose, achieving spiritual enlightenment, building a relationship with the divine, following sacred laws, working towards salvation, or contributing to a divine plan (e.g., serving God, achieving Nirvana, following Dharma, etc.).\n",
       "    *   **Connection to the Sacred:** Meaning can be found in a deep connection with a transcendent reality, spirit, or the interconnected web of all existence.\n",
       "\n",
       "4.  **The Subjective/Pragmatic Approach:**\n",
       "    *   **Meaning is Personal and Created:** Most modern thought converges here – life's meaning isn't found \"out there\" waiting to be discovered, but rather crafted *by individuals* through:\n",
       "        *   **Passion & Engagement:** Deeply pursuing interests, work, relationships, or hobbies that absorb and inspire you (Flow states).\n",
       "        *   **Relationships & Connection:** Building deep bonds with family, friends, partners, and community; experiencing love, belonging, and contribution to others' lives.\n",
       "        *   **Growth & Self-Actualization:** Continuously learning, developing skills, overcoming challenges, and striving to reach your full potential.\n",
       "        *   **Contribution/Legacy:** Making a positive impact on others, society, or the world; leaving something meaningful behind.\n",
       "        *   **Experiencing Life Fully:** Savoring beauty (art, nature), seeking joy, wonder, and fulfillment in everyday moments.\n",
       "\n",
       "**Key Takeaways:**\n",
       "\n",
       "*   **There is no single, objective answer.**\n",
       "*   **It's a deeply personal quest:** You get to (and likely must) create and discover your own sense of meaning based on your values, beliefs, experiences, and passions.\n",
       "*   **Meaning often comes from engagement & connection:** Investing energy in relationships, passions, creative pursuits, or causes larger than yourself tends to foster a stronger sense of meaning.\n",
       "*   **Meaning can change over time:** What feels meaningful at 20 may differ at 40 or 70.\n",
       "*   **It's an ongoing process, not a destination:** Searching for and building meaning is a continuous part of life.\n",
       "\n",
       "**In essence: The \"meaning of life\" might be the very act of exploring, creating, and experiencing what it means to *be alive* as a conscious, feeling, connecting, and evolving human being.** It's woven into your relationships, your passions, your struggles, your growth, and your contributions to the world around you. **What feels meaningful to *you*?** That's the most important answer."
      ],
      "text/plain": [
       "<IPython.core.display.Markdown object>"
      ]
     },
     "metadata": {},
     "output_type": "display_data"
    }
   ],
   "source": [
    "# Import necessary libraries\n",
    "import requests\n",
    "import json\n",
    "from IPython.display import display, Markdown\n",
    "\n",
    "# Set your OpenRouter API key\n",
    "api_key = \"sk\"  # Replace with your actual API key\n",
    "\n",
    "# Function to call OpenRouter API\n",
    "def chat_with_openrouter(prompt, model=\"deepseek/deepseek-r1-0528:free\"):\n",
    "    \"\"\"\n",
    "    Send a chat completion request to OpenRouter API\n",
    "    \n",
    "    Args:\n",
    "        prompt (str): The user's prompt/question\n",
    "        model (str): The model to use for completion\n",
    "        \n",
    "    Returns:\n",
    "        dict: The API response\n",
    "    \"\"\"\n",
    "    \n",
    "    headers = {\n",
    "        \"Authorization\": f\"Bearer {api_key}\",\n",
    "        \"Content-Type\": \"application/json\"\n",
    "    }\n",
    "    \n",
    "    data = {\n",
    "        \"model\": model,\n",
    "        \"messages\": [\n",
    "            {\n",
    "                \"role\": \"user\",\n",
    "                \"content\": prompt\n",
    "            }\n",
    "        ]\n",
    "    }\n",
    "    \n",
    "    response = requests.post(\n",
    "        \"https://openrouter.ai/api/v1/chat/completions\",\n",
    "        headers=headers,\n",
    "        json=data\n",
    "    )\n",
    "    \n",
    "    return response.json()\n",
    "\n",
    "# Example usage - you can run this in a cell\n",
    "user_prompt = \"What is the meaning of life?\"\n",
    "response = chat_with_openrouter(user_prompt)\n",
    "\n",
    "# Display the full response in a nicely formatted way\n",
    "display(Markdown(\"## Full API Response\"))\n",
    "display(Markdown(\"```json\\n\" + json.dumps(response, indent=2) + \"\\n```\"))\n",
    "\n",
    "# Extract and display just the model's response\n",
    "try:\n",
    "    assistant_message = response[\"choices\"][0][\"message\"][\"content\"]\n",
    "    display(Markdown(\"## Model's Response\"))\n",
    "    display(Markdown(assistant_message))\n",
    "except (KeyError, IndexError) as e:\n",
    "    display(Markdown(f\"**Error extracting response**: {e}\"))\n",
    "    display(Markdown(f\"Full response: {response}\"))"
   ]
  },
  {
   "cell_type": "code",
   "execution_count": null,
   "id": "de0a2a06-ad9c-4470-9748-d77a792b2254",
   "metadata": {},
   "outputs": [],
   "source": []
  }
 ],
 "metadata": {
  "kernelspec": {
   "display_name": "Python 3 (ipykernel)",
   "language": "python",
   "name": "python3"
  },
  "language_info": {
   "codemirror_mode": {
    "name": "ipython",
    "version": 3
   },
   "file_extension": ".py",
   "mimetype": "text/x-python",
   "name": "python",
   "nbconvert_exporter": "python",
   "pygments_lexer": "ipython3",
   "version": "3.10.12"
  }
 },
 "nbformat": 4,
 "nbformat_minor": 5
}
