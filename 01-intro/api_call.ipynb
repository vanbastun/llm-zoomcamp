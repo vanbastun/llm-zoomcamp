{
 "cells": [
  {
   "cell_type": "code",
   "execution_count": 1,
   "id": "46535cbb-7da3-45f0-816f-eb86c3ee4d11",
   "metadata": {},
   "outputs": [],
   "source": [
    "import json\n",
    "import os\n",
    "import requests\n",
    "from dotenv import load_dotenv\n",
    "from pathlib import Path\n",
    "\n",
    "def chat_with_openrouter(prompt, model=\"deepseek/deepseek-r1-0528:free\"):\n",
    "    \"\"\"\n",
    "    Send a chat completion request to OpenRouter API\n",
    "    \n",
    "    Args:\n",
    "        prompt (str): The user's prompt/question\n",
    "        model (str): The model to use for completion\n",
    "        \n",
    "    Returns:\n",
    "        dict: The API response\n",
    "    \"\"\"\n",
    "    # Set OpenRouter API key\n",
    "    project_root = Path(__file__).parent if '__file__' in globals() else Path.cwd()\n",
    "    env_path = project_root / '.env'\n",
    "    load_dotenv(dotenv_path=env_path)\n",
    "\n",
    "    api_key = os.getenv(\"OPENROUTER_API_KEY\")\n",
    "    if not api_key:\n",
    "        raise ValueError(\"OPENROUTER_API_KEY not set in .env file.\")\n",
    "        \n",
    "    headers = {\n",
    "        \"Authorization\": f\"Bearer {api_key}\",\n",
    "        \"Content-Type\": \"application/json\"\n",
    "    }\n",
    "    \n",
    "    data = {\n",
    "        \"model\": model,\n",
    "        \"messages\": [\n",
    "            {\n",
    "                \"role\": \"user\",\n",
    "                \"content\": prompt\n",
    "            }\n",
    "        ]\n",
    "    }\n",
    "    \n",
    "    response = requests.post(\n",
    "        \"https://openrouter.ai/api/v1/chat/completions\",\n",
    "        headers=headers,\n",
    "        json=data\n",
    "    )\n",
    "    \n",
    "    return response.json() # [\"choices\"][0][\"message\"][\"content\"]\n"
   ]
  },
  {
   "cell_type": "code",
   "execution_count": null,
   "id": "a9b63543-4610-4295-a4ec-65bd9334a37e",
   "metadata": {},
   "outputs": [],
   "source": [
    "from IPython.display import display, Markdown\n",
    "# Example usage - you can run this in a cell\n",
    "user_prompt = \"The course is already started. Can I still join the course?\"\n",
    "response = chat_with_openrouter(user_prompt)\n",
    "\n",
    "# Display the full response in a nicely formatted way\n",
    "# display(Markdown(\"## Full API Response\"))\n",
    "# display(Markdown(\"```json\\n\" + json.dumps(response, indent=2) + \"\\n```\"))\n",
    "\n",
    "# # Extract and display just the model's response\n",
    "# try:\n",
    "#     assistant_message = response[\"choices\"][0][\"message\"][\"content\"]\n",
    "#     display(Markdown(\"## Model's Response\"))\n",
    "#     display(Markdown(assistant_message))\n",
    "# except (KeyError, IndexError) as e:\n",
    "#     display(Markdown(f\"**Error extracting response**: {e}\"))\n",
    "#     display(Markdown(f\"Full response: {response}\"))"
   ]
  },
  {
   "cell_type": "code",
   "execution_count": null,
   "id": "9378ab0f-396f-4fd0-a44e-3d368783339c",
   "metadata": {},
   "outputs": [],
   "source": [
    "response"
   ]
  }
 ],
 "metadata": {
  "kernelspec": {
   "display_name": "Python 3 (ipykernel)",
   "language": "python",
   "name": "python3"
  },
  "language_info": {
   "codemirror_mode": {
    "name": "ipython",
    "version": 3
   },
   "file_extension": ".py",
   "mimetype": "text/x-python",
   "name": "python",
   "nbconvert_exporter": "python",
   "pygments_lexer": "ipython3",
   "version": "3.10.12"
  }
 },
 "nbformat": 4,
 "nbformat_minor": 5
}
